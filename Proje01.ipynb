{
  "nbformat": 4,
  "nbformat_minor": 0,
  "metadata": {
    "colab": {
      "name": "Untitled2.ipynb",
      "provenance": [],
      "collapsed_sections": [],
      "authorship_tag": "ABX9TyPqpeQxbpaU7OG3Sg5qG5uE",
      "include_colab_link": true
    },
    "kernelspec": {
      "name": "python3",
      "display_name": "Python 3"
    },
    "language_info": {
      "name": "python"
    }
  },
  "cells": [
    {
      "cell_type": "markdown",
      "metadata": {
        "id": "view-in-github",
        "colab_type": "text"
      },
      "source": [
        "<a href=\"https://colab.research.google.com/github/ebrargunay/hu-bby162-2022/blob/main/Proje01.ipynb\" target=\"_parent\"><img src=\"https://colab.research.google.com/assets/colab-badge.svg\" alt=\"Open In Colab\"/></a>"
      ]
    },
    {
      "cell_type": "code",
      "execution_count": 21,
      "metadata": {
        "colab": {
          "base_uri": "https://localhost:8080/"
        },
        "id": "Ahk7XLbeTLfG",
        "outputId": "2acaecd1-fadd-4db2-8bbb-d9da5702533c"
      },
      "outputs": [
        {
          "output_type": "stream",
          "name": "stdout",
          "text": [
            "Güncel ve gelecekte popüler olacak mesleklerden tahminde bulununuz.\n",
            "İndeks numarasını giriniz: 6\n",
            "Bulut Mühendisi\n"
          ]
        }
      ],
      "source": [
        "print(\"Güncel ve gelecekte popüler olacak mesleklerden tahminde bulununuz.\")\n",
        "\n",
        "liste = ['Yazılım Mühendisliği', 'Yapay Zeka Mühendisliği', 'Blockchain Geliştiricisi', 'Veri Analisti', 'Alternatif Enerji Uzmanı', 'Siber Güvenlik Uzmanı','Bulut Mühendisi']\n",
        "\n",
        "tahmin= int(input(\"İndeks numarasını giriniz: \"))\n",
        "\n",
        "listeToplam=len(liste)\n",
        "\n",
        "if tahmin < listeToplam:\n",
        "  print(liste[tahmin])\n",
        "else:\n",
        "  print(\"İndeks dışı giriş!\")"
      ]
    }
  ]
}