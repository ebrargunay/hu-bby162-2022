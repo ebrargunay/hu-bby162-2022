{
  "nbformat": 4,
  "nbformat_minor": 0,
  "metadata": {
    "colab": {
      "name": "Untitled2.ipynb",
      "provenance": [],
      "collapsed_sections": [],
      "authorship_tag": "ABX9TyOjNmIweiLje5GIyq5PG7MR",
      "include_colab_link": true
    },
    "kernelspec": {
      "name": "python3",
      "display_name": "Python 3"
    },
    "language_info": {
      "name": "python"
    }
  },
  "cells": [
    {
      "cell_type": "markdown",
      "metadata": {
        "id": "view-in-github",
        "colab_type": "text"
      },
      "source": [
        "<a href=\"https://colab.research.google.com/github/ebrargunay/hu-bby162-2022/blob/main/Proje01.ipynb\" target=\"_parent\"><img src=\"https://colab.research.google.com/assets/colab-badge.svg\" alt=\"Open In Colab\"/></a>"
      ]
    },
    {
      "cell_type": "code",
      "source": [
        "print(\"Tahmin etme oyununa hoşgeldiniz!\\nGüncel ve gelecekte popüler olacak mesleklerden rastgele birini görmek için bir sayı tahmininde bulunun.\")\n",
        "\n",
        "liste = ['Yazılım Mühendisliği', 'Yapay Zeka Mühendisliği', 'Blockchain Geliştiricisi', 'Veri Analisti', 'Alternatif Enerji Uzmanı', 'Siber Güvenlik Uzmanı','Bulut Mühendisi']\n",
        "\n",
        "listeToplam = len(liste)\n",
        "while True:\n",
        "  tahmin =input(\"Bir sayı tahmininde bulunun: \")\n",
        "  if tahmin.isdigit():\n",
        "    tahmin = int(tahmin)\n",
        "    if tahmin < listeToplam:\n",
        "      print(\"Tahmin ettiğiniz meslek: \" + liste[tahmin])\n",
        "      break\n",
        "  else:\n",
        "    print(\"Lütfen bir sayı girmediyseniz sayı giriniz, sayı girdiyseniz girdiğiniz sayıya ait meslek yok!\")"
      ],
      "metadata": {
        "id": "m113y8xwG69N",
        "outputId": "de76d135-8eca-4343-d94e-400aaf0c8a7c",
        "colab": {
          "base_uri": "https://localhost:8080/"
        }
      },
      "execution_count": 5,
      "outputs": [
        {
          "output_type": "stream",
          "name": "stdout",
          "text": [
            "Tahmin etme oyununa hoşgeldiniz!\n",
            "Güncel ve gelecekte popüler olacak mesleklerden rastgele birini görmek için bir sayı tahmininde bulunun.\n",
            "Bir sayı tahmininde bulunun: gfhsrfdhfhbdgbd\n",
            "Lütfen bir sayı girmediyseniz sayı giriniz, sayı girdiyseniz girdiğiniz sayıya ait meslek yok!\n",
            "Bir sayı tahmininde bulunun: 646262\n",
            "Bir sayı tahmininde bulunun: 5\n",
            "Tahmin ettiğiniz meslek: Siber Güvenlik Uzmanı\n"
          ]
        }
      ]
    }
  ]
}