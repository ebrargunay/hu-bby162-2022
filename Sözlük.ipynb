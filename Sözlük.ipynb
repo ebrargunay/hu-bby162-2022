{
  "nbformat": 4,
  "nbformat_minor": 0,
  "metadata": {
    "colab": {
      "name": "Sözlük.ipynb",
      "provenance": [],
      "authorship_tag": "ABX9TyNmxVKulMpHtZRYxnGGGW2Q",
      "include_colab_link": true
    },
    "kernelspec": {
      "name": "python3",
      "display_name": "Python 3"
    },
    "language_info": {
      "name": "python"
    }
  },
  "cells": [
    {
      "cell_type": "markdown",
      "metadata": {
        "id": "view-in-github",
        "colab_type": "text"
      },
      "source": [
        "<a href=\"https://colab.research.google.com/github/ebrargunay/hu-bby162-2022/blob/main/S%C3%B6zl%C3%BCk.ipynb\" target=\"_parent\"><img src=\"https://colab.research.google.com/assets/colab-badge.svg\" alt=\"Open In Colab\"/></a>"
      ]
    },
    {
      "cell_type": "code",
      "execution_count": null,
      "metadata": {
        "id": "NJZwk2AEpRbo"
      },
      "outputs": [],
      "source": [
        "#yeniSozluk\n",
        "eşanlamlılar = {\"Ad\":\"İsim\", \"Alaz\":\"Alev\",\"Ayrıcalık\":\"İmtiyaz\"}\n",
        "print(eşanlamlılar)\n",
        "\n",
        "eşanlamlılar[\"Al\"] = \"Kırmızı\"\n",
        "print(eşanlamlılar)\n",
        "\n",
        "del eşanlamlılar['Al']\n",
        "print(eşanlamlılar)\n",
        "\n",
        "print(eşanlamlılar.values())\n",
        "print(eşanlamlılar.keys())\n",
        "\n",
        "print(\"Alaz\" in eşanlamlılar)\n",
        "print(\"Alev\" in eşanlamlılar)\n",
        "\n",
        "print(\"Ayrıcalık\" in eşanlamlılar.values())\n",
        "print(\"Ayrıcalık\" in eşanlamlılar.keys())\n",
        "\n",
        "print(\"Alaz: \" + eşanlamlılar[\"Alaz\"])\n",
        "\n",
        "arama = input(\"Aradığınız kelimeyi giriniz: \")\n",
        "arama = arama.capitalize()\n",
        "print(arama)"
      ]
    }
  ]
}