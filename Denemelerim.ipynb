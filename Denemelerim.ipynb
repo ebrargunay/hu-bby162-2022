{
  "nbformat": 4,
  "nbformat_minor": 0,
  "metadata": {
    "colab": {
      "name": "Untitled3.ipynb",
      "provenance": [],
      "authorship_tag": "ABX9TyNtHDxGfK0JMvn5s4Zd6AYk",
      "include_colab_link": true
    },
    "kernelspec": {
      "name": "python3",
      "display_name": "Python 3"
    },
    "language_info": {
      "name": "python"
    }
  },
  "cells": [
    {
      "cell_type": "markdown",
      "metadata": {
        "id": "view-in-github",
        "colab_type": "text"
      },
      "source": [
        "<a href=\"https://colab.research.google.com/github/ebrargunay/hu-bby162-2022/blob/main/Denemelerim.ipynb\" target=\"_parent\"><img src=\"https://colab.research.google.com/assets/colab-badge.svg\" alt=\"Open In Colab\"/></a>"
      ]
    },
    {
      "cell_type": "code",
      "source": [
        "metin = 'hadi '\n",
        "print(metin*4)"
      ],
      "metadata": {
        "colab": {
          "base_uri": "https://localhost:8080/"
        },
        "id": "0mVp1_O252Yo",
        "outputId": "8a9d578c-cacf-4e03-cca2-f47ab346bdee"
      },
      "execution_count": null,
      "outputs": [
        {
          "output_type": "stream",
          "name": "stdout",
          "text": [
            "hadi hadi hadi hadi \n"
          ]
        }
      ]
    },
    {
      "cell_type": "code",
      "source": [
        "metin = 'Ebrar\\n'\n",
        "print(metin*5)\n"
      ],
      "metadata": {
        "colab": {
          "base_uri": "https://localhost:8080/"
        },
        "id": "j2ehQAgFry_k",
        "outputId": "78f75fd3-661d-44ca-c505-187d4789194f"
      },
      "execution_count": null,
      "outputs": [
        {
          "output_type": "stream",
          "name": "stdout",
          "text": [
            "Ebrar\n",
            "Ebrar\n",
            "Ebrar\n",
            "Ebrar\n",
            "Ebrar\n",
            "\n"
          ]
        }
      ]
    },
    {
      "cell_type": "code",
      "source": [
        "değer1=10\n",
        "değer2=100\n",
        "değer1==değer2"
      ],
      "metadata": {
        "colab": {
          "base_uri": "https://localhost:8080/"
        },
        "id": "5W3qHHWUzMww",
        "outputId": "d224d187-ea3c-4bd9-8e6c-b315aa6a8398"
      },
      "execution_count": null,
      "outputs": [
        {
          "output_type": "execute_result",
          "data": {
            "text/plain": [
              "False"
            ]
          },
          "metadata": {},
          "execution_count": 20
        }
      ]
    },
    {
      "cell_type": "code",
      "source": [
        "kartLimiti = 500\n",
        "almakistenenürününfiyatı = int(input('Ürün Fiyatı Giriniz: '))\n",
        "kontrol = almakistenenürününfiyatı > kartLimiti\n",
        "print(\"Limit Yetersiz \" + str(kontrol))"
      ],
      "metadata": {
        "colab": {
          "base_uri": "https://localhost:8080/"
        },
        "id": "8-LAwlfN1BHF",
        "outputId": "ef5a7ca2-e4f2-49e0-9b75-a986c64c92ba"
      },
      "execution_count": null,
      "outputs": [
        {
          "output_type": "stream",
          "name": "stdout",
          "text": [
            "Ürün Fiyatı Giriniz: 501\n",
            "Limit Yetersiz True\n"
          ]
        }
      ]
    },
    {
      "cell_type": "code",
      "source": [
        "isim = 'Ebrar'\n",
        "print(isim[-2])\n",
        "print(isim[0])"
      ],
      "metadata": {
        "id": "NP823M3zDmS6",
        "outputId": "c49ce6c9-2320-49b9-9726-adead304e876",
        "colab": {
          "base_uri": "https://localhost:8080/"
        }
      },
      "execution_count": null,
      "outputs": [
        {
          "output_type": "stream",
          "name": "stdout",
          "text": [
            "a\n",
            "E\n"
          ]
        }
      ]
    },
    {
      "cell_type": "code",
      "source": [
        "metin = 'Oysa herkes öldürür sevdiğini, Kulak verin bu dediklerime, Kimi bir bakışı ile yapar bunu, Kimi dalkavukça sözler ile… Korkaklar öpücük ile  öldürür… Yürekliler kılıç darbeleriyle. Kimi gençken öldürür sevdiğini Kimi yaşlıyken. Şehvetli ellerle boğar kimi, Kimi altından ellerle. Merhametli kişi bıçak kullanır. Çünkü bıçakla ölen çabuk soğur. Kimi yeterince sevmez, kimi fazla sever Kimi satar; kimi de satın alır. Kimi gözyaşı döker öldürürken, Kimi kılı kıpırdamadan. Çünkü herkes öldürür sevdiğini. Ama herkes öldürdü diye ölmez.'\n",
        "arama = input('Arama yapmak istediğiniz kelimeleri girin: ')\n",
        "sonuc = arama in metin\n",
        "print('Aradığınız kelime/kelimeler mevcut : ' + str(sonuc))"
      ],
      "metadata": {
        "id": "Ey13C_DIDmcN",
        "outputId": "0dab83ed-68f2-452b-f7a2-c4ae8c5041ae",
        "colab": {
          "base_uri": "https://localhost:8080/"
        }
      },
      "execution_count": null,
      "outputs": [
        {
          "output_type": "stream",
          "name": "stdout",
          "text": [
            "Arama yapmak istediğiniz kelimeleri girin: Oysa herkes öldürür sevdiğini\n",
            "Aradığınız kelime/kelimeler mevcut : True\n"
          ]
        }
      ]
    },
    {
      "cell_type": "code",
      "source": [
        "metin = 'BeN ÜzÜlMeM SeN AğLa'\n",
        "print(metin.lower())\n",
        "print(metin.upper())\n",
        "print(metin.capitalize())"
      ],
      "metadata": {
        "id": "Jn33K4XP869X",
        "outputId": "104e5cf4-1fb6-4adf-98d0-08a8f76c881f",
        "colab": {
          "base_uri": "https://localhost:8080/"
        }
      },
      "execution_count": 4,
      "outputs": [
        {
          "output_type": "stream",
          "name": "stdout",
          "text": [
            "ben üzülmem sen ağla\n",
            "BEN ÜZÜLMEM SEN AĞLA\n",
            "Ben üzülmem sen ağla\n"
          ]
        }
      ]
    },
    {
      "cell_type": "code",
      "source": [
        "###DENEME BİR\n",
        "şarkı = '\\'beni benimle bırak\\''\n",
        "çıktığıyıl = 2009\n",
        "print('Manga\\'nın %s isimli şarkısı' % şarkı  + ' %d yılında çıkmıştır.' % çıktığıyıl)\n",
        "# + koymadan olmuyor.\n",
        "\n",
        "###DENEME İKİ\n",
        "ad= 'Ebrar'\n",
        "soyad= 'Günay'\n",
        "print('Merhaba ben %s %s.' % (ad,soyad))"
      ],
      "metadata": {
        "id": "eF-KyqXy89Q1",
        "outputId": "45a5defc-d297-41c0-af03-de76a53dbe1a",
        "colab": {
          "base_uri": "https://localhost:8080/"
        }
      },
      "execution_count": 31,
      "outputs": [
        {
          "output_type": "stream",
          "name": "stdout",
          "text": [
            "Manga'nın 'beni benimle bırak' isimli şarkısı 2009 yılında çıkmıştır.\n",
            "Merhaba ben Ebrar Günay.\n"
          ]
        }
      ]
    },
    {
      "cell_type": "code",
      "source": [
        "meyveler = [\"Karpuz\", \"Şeftali\", \"Çilek\"]\n",
        "meyveler += [\"Armut\", \"Üzüm\"]\n",
        "print(meyveler)\n",
        "#appendden sonra birden çok değer yazarken virgül koyunca hata veriyor. artı ile yapınca da 'NarKayısıKavun' şeklinde tek bir değer olarak çıkıyor o yüzden en mantıklısı append ile tek değer eklemek.\n",
        "meyveler.append(\"Nar\"+\"Kayısı\"+\"Kavun\")\n",
        "print(meyveler)\n",
        "meyveler.append(\"Yeni dünya\")\n",
        "print(meyveler)\n",
        "meyveler[3]= \"Elma\"\n",
        "print(meyveler)"
      ],
      "metadata": {
        "id": "S4402ZHn89jq",
        "outputId": "89b58dc6-1c87-45a6-e7ea-799aae0e028e",
        "colab": {
          "base_uri": "https://localhost:8080/"
        }
      },
      "execution_count": 36,
      "outputs": [
        {
          "output_type": "stream",
          "name": "stdout",
          "text": [
            "['Karpuz', 'Şeftali', 'Çilek', 'Armut', 'Üzüm']\n",
            "['Karpuz', 'Şeftali', 'Çilek', 'Armut', 'Üzüm', 'NarKayısıKavun']\n",
            "['Karpuz', 'Şeftali', 'Çilek', 'Armut', 'Üzüm', 'NarKayısıKavun', 'Yeni dünya']\n",
            "['Karpuz', 'Şeftali', 'Çilek', 'Elma', 'Üzüm', 'NarKayısıKavun', 'Yeni dünya']\n"
          ]
        }
      ]
    },
    {
      "cell_type": "code",
      "source": [
        "diziler = ['Breakin Bad']\n",
        "#print(diziler)\n",
        "\n",
        "diziler.append(\"The office\")\n",
        "diziler.append(input(\"Dizi ismi giriniz: \"))\n",
        "diziler.append(input(\"Dizi ismi giriniz: \"))\n",
        "diziler.append(input(\"Dizi ismi giriniz: \"))\n",
        "diziler.append(input(\"Dizi ismi giriniz: \"))\n",
        "\n",
        "print(diziler)"
      ],
      "metadata": {
        "id": "p9C8De5h89_G",
        "outputId": "6b966f24-2313-4ae5-e39a-15e139807d0d",
        "colab": {
          "base_uri": "https://localhost:8080/"
        }
      },
      "execution_count": 82,
      "outputs": [
        {
          "output_type": "stream",
          "name": "stdout",
          "text": [
            "Dizi ismi giriniz: Brooklyn Nine Nine\n",
            "Dizi ismi giriniz: The Walking Dead\n",
            "Dizi ismi giriniz: Better Call Saul\n",
            "Dizi ismi giriniz: Teen Wolf\n",
            "['Breakin Bad', 'The office', 'Brooklyn Nine Nine', 'The Walking Dead', 'Better Call Saul', 'Teen Wolf']\n"
          ]
        }
      ]
    },
    {
      "cell_type": "code",
      "source": [
        "liste = []\n",
        "ad = input(\"Adınız: \")\n",
        "soyad = input(\"Soyadınız: \")\n",
        "adsoyad = ad + \" \" + soyad\n",
        "liste.append(adsoyad)\n",
        "#print(liste)\n",
        "\n",
        "ad = input(\"Adınız: \")\n",
        "soyad = input(\"Soyadınız: \")\n",
        "adsoyad = ad + \" \" + soyad\n",
        "liste.append(adsoyad)\n",
        "print(liste)"
      ],
      "metadata": {
        "id": "x9JKIVlb8-JV",
        "outputId": "af13f2f8-605e-4e0a-8301-6c4a47bf4077",
        "colab": {
          "base_uri": "https://localhost:8080/"
        }
      },
      "execution_count": 80,
      "outputs": [
        {
          "output_type": "stream",
          "name": "stdout",
          "text": [
            "Adınız: Müslüm\n",
            "Soyadınız: Gürses\n",
            "Adınız: Sezen\n",
            "Soyadınız: Aksu\n",
            "['Müslüm Gürses', 'Sezen Aksu']\n"
          ]
        }
      ]
    },
    {
      "cell_type": "code",
      "source": [
        ""
      ],
      "metadata": {
        "id": "eL1UA9n38-cc"
      },
      "execution_count": null,
      "outputs": []
    },
    {
      "cell_type": "code",
      "source": [
        ""
      ],
      "metadata": {
        "id": "WuDM8kqh8-fb"
      },
      "execution_count": null,
      "outputs": []
    },
    {
      "cell_type": "code",
      "source": [
        ""
      ],
      "metadata": {
        "id": "9iarww0j8-iL"
      },
      "execution_count": null,
      "outputs": []
    },
    {
      "cell_type": "code",
      "source": [
        ""
      ],
      "metadata": {
        "id": "c6_C1I1S8-kB"
      },
      "execution_count": null,
      "outputs": []
    }
  ]
}