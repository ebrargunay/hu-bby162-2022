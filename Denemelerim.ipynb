{
  "nbformat": 4,
  "nbformat_minor": 0,
  "metadata": {
    "colab": {
      "name": "Untitled3.ipynb",
      "provenance": [],
      "authorship_tag": "ABX9TyOLWW9MzauktOP5ZNO9bz23",
      "include_colab_link": true
    },
    "kernelspec": {
      "name": "python3",
      "display_name": "Python 3"
    },
    "language_info": {
      "name": "python"
    }
  },
  "cells": [
    {
      "cell_type": "markdown",
      "metadata": {
        "id": "view-in-github",
        "colab_type": "text"
      },
      "source": [
        "<a href=\"https://colab.research.google.com/github/ebrargunay/hu-bby162-2022/blob/main/Denemelerim.ipynb\" target=\"_parent\"><img src=\"https://colab.research.google.com/assets/colab-badge.svg\" alt=\"Open In Colab\"/></a>"
      ]
    },
    {
      "cell_type": "code",
      "source": [
        "metin = 'hadi '\n",
        "print(metin*4)"
      ],
      "metadata": {
        "colab": {
          "base_uri": "https://localhost:8080/"
        },
        "id": "0mVp1_O252Yo",
        "outputId": "8a9d578c-cacf-4e03-cca2-f47ab346bdee"
      },
      "execution_count": null,
      "outputs": [
        {
          "output_type": "stream",
          "name": "stdout",
          "text": [
            "hadi hadi hadi hadi \n"
          ]
        }
      ]
    },
    {
      "cell_type": "code",
      "source": [
        "metin = 'Ebrar\\n'\n",
        "print(metin*5)\n"
      ],
      "metadata": {
        "colab": {
          "base_uri": "https://localhost:8080/"
        },
        "id": "j2ehQAgFry_k",
        "outputId": "78f75fd3-661d-44ca-c505-187d4789194f"
      },
      "execution_count": null,
      "outputs": [
        {
          "output_type": "stream",
          "name": "stdout",
          "text": [
            "Ebrar\n",
            "Ebrar\n",
            "Ebrar\n",
            "Ebrar\n",
            "Ebrar\n",
            "\n"
          ]
        }
      ]
    },
    {
      "cell_type": "code",
      "source": [
        "değer1=10\n",
        "değer2=100\n",
        "değer1==değer2"
      ],
      "metadata": {
        "colab": {
          "base_uri": "https://localhost:8080/"
        },
        "id": "5W3qHHWUzMww",
        "outputId": "d224d187-ea3c-4bd9-8e6c-b315aa6a8398"
      },
      "execution_count": null,
      "outputs": [
        {
          "output_type": "execute_result",
          "data": {
            "text/plain": [
              "False"
            ]
          },
          "metadata": {},
          "execution_count": 20
        }
      ]
    },
    {
      "cell_type": "code",
      "source": [
        "kartLimiti = 500\n",
        "almakistenenürününfiyatı = int(input('Ürün Fiyatı Giriniz: '))\n",
        "kontrol = almakistenenürününfiyatı > kartLimiti\n",
        "print(\"Limit Yetersiz \" + str(kontrol))"
      ],
      "metadata": {
        "colab": {
          "base_uri": "https://localhost:8080/"
        },
        "id": "8-LAwlfN1BHF",
        "outputId": "ef5a7ca2-e4f2-49e0-9b75-a986c64c92ba"
      },
      "execution_count": null,
      "outputs": [
        {
          "output_type": "stream",
          "name": "stdout",
          "text": [
            "Ürün Fiyatı Giriniz: 501\n",
            "Limit Yetersiz True\n"
          ]
        }
      ]
    },
    {
      "cell_type": "code",
      "source": [
        "isim = 'Ebrar'\n",
        "print(isim[-2])\n",
        "print(isim[0])"
      ],
      "metadata": {
        "id": "NP823M3zDmS6",
        "outputId": "c49ce6c9-2320-49b9-9726-adead304e876",
        "colab": {
          "base_uri": "https://localhost:8080/"
        }
      },
      "execution_count": 15,
      "outputs": [
        {
          "output_type": "stream",
          "name": "stdout",
          "text": [
            "a\n",
            "E\n"
          ]
        }
      ]
    },
    {
      "cell_type": "code",
      "source": [
        "metin = 'Oysa herkes öldürür sevdiğini, Kulak verin bu dediklerime, Kimi bir bakışı ile yapar bunu, Kimi dalkavukça sözler ile… Korkaklar öpücük ile  öldürür… Yürekliler kılıç darbeleriyle. Kimi gençken öldürür sevdiğini Kimi yaşlıyken. Şehvetli ellerle boğar kimi, Kimi altından ellerle. Merhametli kişi bıçak kullanır. Çünkü bıçakla ölen çabuk soğur. Kimi yeterince sevmez, kimi fazla sever Kimi satar; kimi de satın alır. Kimi gözyaşı döker öldürürken, Kimi kılı kıpırdamadan. Çünkü herkes öldürür sevdiğini. Ama herkes öldürdü diye ölmez.'\n",
        "arama = input('Arama yapmak istediğiniz kelimeleri girin: ')\n",
        "sonuc = arama in metin\n",
        "print('Aradığınız kelime/kelimeler mevcut : ' + str(sonuc))"
      ],
      "metadata": {
        "id": "Ey13C_DIDmcN",
        "outputId": "0dab83ed-68f2-452b-f7a2-c4ae8c5041ae",
        "colab": {
          "base_uri": "https://localhost:8080/"
        }
      },
      "execution_count": 25,
      "outputs": [
        {
          "output_type": "stream",
          "name": "stdout",
          "text": [
            "Arama yapmak istediğiniz kelimeleri girin: Oysa herkes öldürür sevdiğini\n",
            "Aradığınız kelime/kelimeler mevcut : True\n"
          ]
        }
      ]
    }
  ]
}