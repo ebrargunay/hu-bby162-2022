{
  "nbformat": 4,
  "nbformat_minor": 0,
  "metadata": {
    "colab": {
      "name": "Untitled3.ipynb",
      "provenance": [],
      "authorship_tag": "ABX9TyOomZly1/XOjB/LqUHT6Sf0",
      "include_colab_link": true
    },
    "kernelspec": {
      "name": "python3",
      "display_name": "Python 3"
    },
    "language_info": {
      "name": "python"
    }
  },
  "cells": [
    {
      "cell_type": "markdown",
      "metadata": {
        "id": "view-in-github",
        "colab_type": "text"
      },
      "source": [
        "<a href=\"https://colab.research.google.com/github/ebrargunay/hu-bby162-2022/blob/main/Denemelerim.ipynb\" target=\"_parent\"><img src=\"https://colab.research.google.com/assets/colab-badge.svg\" alt=\"Open In Colab\"/></a>"
      ]
    },
    {
      "cell_type": "code",
      "source": [
        "metin = 'hadi '\n",
        "print(metin*4)"
      ],
      "metadata": {
        "colab": {
          "base_uri": "https://localhost:8080/"
        },
        "id": "0mVp1_O252Yo",
        "outputId": "8a9d578c-cacf-4e03-cca2-f47ab346bdee"
      },
      "execution_count": null,
      "outputs": [
        {
          "output_type": "stream",
          "name": "stdout",
          "text": [
            "hadi hadi hadi hadi \n"
          ]
        }
      ]
    },
    {
      "cell_type": "code",
      "source": [
        "metin = 'Ebrar\\n'\n",
        "print(metin*5)\n"
      ],
      "metadata": {
        "colab": {
          "base_uri": "https://localhost:8080/"
        },
        "id": "j2ehQAgFry_k",
        "outputId": "78f75fd3-661d-44ca-c505-187d4789194f"
      },
      "execution_count": null,
      "outputs": [
        {
          "output_type": "stream",
          "name": "stdout",
          "text": [
            "Ebrar\n",
            "Ebrar\n",
            "Ebrar\n",
            "Ebrar\n",
            "Ebrar\n",
            "\n"
          ]
        }
      ]
    },
    {
      "cell_type": "code",
      "source": [
        "değer1=10\n",
        "değer2=100\n",
        "değer1==değer2"
      ],
      "metadata": {
        "colab": {
          "base_uri": "https://localhost:8080/"
        },
        "id": "5W3qHHWUzMww",
        "outputId": "d224d187-ea3c-4bd9-8e6c-b315aa6a8398"
      },
      "execution_count": null,
      "outputs": [
        {
          "output_type": "execute_result",
          "data": {
            "text/plain": [
              "False"
            ]
          },
          "metadata": {},
          "execution_count": 20
        }
      ]
    },
    {
      "cell_type": "code",
      "source": [
        "kartLimiti = 500\n",
        "almakistenenürününfiyatı = int(input('Ürün Fiyatı Giriniz: '))\n",
        "kontrol = almakistenenürününfiyatı > kartLimiti\n",
        "print(\"Limit Yetersiz \" + str(kontrol))"
      ],
      "metadata": {
        "colab": {
          "base_uri": "https://localhost:8080/"
        },
        "id": "8-LAwlfN1BHF",
        "outputId": "ef5a7ca2-e4f2-49e0-9b75-a986c64c92ba"
      },
      "execution_count": null,
      "outputs": [
        {
          "output_type": "stream",
          "name": "stdout",
          "text": [
            "Ürün Fiyatı Giriniz: 501\n",
            "Limit Yetersiz True\n"
          ]
        }
      ]
    },
    {
      "cell_type": "code",
      "source": [
        "isim = 'Ebrar'\n",
        "print(isim[-2])\n",
        "print(isim[0])"
      ],
      "metadata": {
        "id": "NP823M3zDmS6",
        "outputId": "c49ce6c9-2320-49b9-9726-adead304e876",
        "colab": {
          "base_uri": "https://localhost:8080/"
        }
      },
      "execution_count": null,
      "outputs": [
        {
          "output_type": "stream",
          "name": "stdout",
          "text": [
            "a\n",
            "E\n"
          ]
        }
      ]
    },
    {
      "cell_type": "code",
      "source": [
        "metin = 'Oysa herkes öldürür sevdiğini, Kulak verin bu dediklerime, Kimi bir bakışı ile yapar bunu, Kimi dalkavukça sözler ile… Korkaklar öpücük ile  öldürür… Yürekliler kılıç darbeleriyle. Kimi gençken öldürür sevdiğini Kimi yaşlıyken. Şehvetli ellerle boğar kimi, Kimi altından ellerle. Merhametli kişi bıçak kullanır. Çünkü bıçakla ölen çabuk soğur. Kimi yeterince sevmez, kimi fazla sever Kimi satar; kimi de satın alır. Kimi gözyaşı döker öldürürken, Kimi kılı kıpırdamadan. Çünkü herkes öldürür sevdiğini. Ama herkes öldürdü diye ölmez.'\n",
        "arama = input('Arama yapmak istediğiniz kelimeleri girin: ')\n",
        "sonuc = arama in metin\n",
        "print('Aradığınız kelime/kelimeler mevcut : ' + str(sonuc))"
      ],
      "metadata": {
        "id": "Ey13C_DIDmcN",
        "outputId": "0dab83ed-68f2-452b-f7a2-c4ae8c5041ae",
        "colab": {
          "base_uri": "https://localhost:8080/"
        }
      },
      "execution_count": null,
      "outputs": [
        {
          "output_type": "stream",
          "name": "stdout",
          "text": [
            "Arama yapmak istediğiniz kelimeleri girin: Oysa herkes öldürür sevdiğini\n",
            "Aradığınız kelime/kelimeler mevcut : True\n"
          ]
        }
      ]
    },
    {
      "cell_type": "code",
      "source": [
        "metin = 'BeN ÜzÜlMeM SeN AğLa'\n",
        "print(metin.lower())\n",
        "print(metin.upper())\n",
        "print(metin.capitalize())"
      ],
      "metadata": {
        "id": "Jn33K4XP869X",
        "outputId": "104e5cf4-1fb6-4adf-98d0-08a8f76c881f",
        "colab": {
          "base_uri": "https://localhost:8080/"
        }
      },
      "execution_count": null,
      "outputs": [
        {
          "output_type": "stream",
          "name": "stdout",
          "text": [
            "ben üzülmem sen ağla\n",
            "BEN ÜZÜLMEM SEN AĞLA\n",
            "Ben üzülmem sen ağla\n"
          ]
        }
      ]
    },
    {
      "cell_type": "code",
      "source": [
        "###DENEME BİR\n",
        "şarkı = '\\'beni benimle bırak\\''\n",
        "çıktığıyıl = 2009\n",
        "print('Manga\\'nın %s isimli şarkısı' % şarkı  + ' %d yılında çıkmıştır.' % çıktığıyıl)\n",
        "# + koymadan olmuyor.\n",
        "\n",
        "###DENEME İKİ\n",
        "ad= 'Ebrar'\n",
        "soyad= 'Günay'\n",
        "print('Merhaba ben %s %s.' % (ad,soyad))"
      ],
      "metadata": {
        "id": "eF-KyqXy89Q1",
        "outputId": "45a5defc-d297-41c0-af03-de76a53dbe1a",
        "colab": {
          "base_uri": "https://localhost:8080/"
        }
      },
      "execution_count": null,
      "outputs": [
        {
          "output_type": "stream",
          "name": "stdout",
          "text": [
            "Manga'nın 'beni benimle bırak' isimli şarkısı 2009 yılında çıkmıştır.\n",
            "Merhaba ben Ebrar Günay.\n"
          ]
        }
      ]
    },
    {
      "cell_type": "code",
      "source": [
        "meyveler = [\"Karpuz\", \"Şeftali\", \"Çilek\"]\n",
        "meyveler += [\"Armut\", \"Üzüm\"]\n",
        "print(meyveler)\n",
        "#appendden sonra birden çok değer yazarken virgül koyunca hata veriyor. artı ile yapınca da 'NarKayısıKavun' şeklinde tek bir değer olarak çıkıyor o yüzden en mantıklısı append ile tek değer eklemek.\n",
        "meyveler.append(\"Nar\"+\"Kayısı\"+\"Kavun\")\n",
        "print(meyveler)\n",
        "meyveler.append(\"Yeni dünya\")\n",
        "print(meyveler)\n",
        "meyveler[3]= \"Elma\"\n",
        "print(meyveler)"
      ],
      "metadata": {
        "id": "S4402ZHn89jq",
        "outputId": "89b58dc6-1c87-45a6-e7ea-799aae0e028e",
        "colab": {
          "base_uri": "https://localhost:8080/"
        }
      },
      "execution_count": null,
      "outputs": [
        {
          "output_type": "stream",
          "name": "stdout",
          "text": [
            "['Karpuz', 'Şeftali', 'Çilek', 'Armut', 'Üzüm']\n",
            "['Karpuz', 'Şeftali', 'Çilek', 'Armut', 'Üzüm', 'NarKayısıKavun']\n",
            "['Karpuz', 'Şeftali', 'Çilek', 'Armut', 'Üzüm', 'NarKayısıKavun', 'Yeni dünya']\n",
            "['Karpuz', 'Şeftali', 'Çilek', 'Elma', 'Üzüm', 'NarKayısıKavun', 'Yeni dünya']\n"
          ]
        }
      ]
    },
    {
      "cell_type": "code",
      "source": [
        "diziler = ['Breaking Bad']\n",
        "#print(diziler)\n",
        "\n",
        "diziler.append(\"The office\")\n",
        "diziler.append(input(\"Dizi ismi giriniz: \"))\n",
        "diziler.append(input(\"Dizi ismi giriniz: \"))\n",
        "diziler.append(input(\"Dizi ismi giriniz: \"))\n",
        "diziler.append(input(\"Dizi ismi giriniz: \"))\n",
        "\n",
        "print(diziler)"
      ],
      "metadata": {
        "id": "p9C8De5h89_G",
        "outputId": "f35b5766-d62d-4766-ebfc-192ba90d8fd1",
        "colab": {
          "base_uri": "https://localhost:8080/"
        }
      },
      "execution_count": 1,
      "outputs": [
        {
          "output_type": "stream",
          "name": "stdout",
          "text": [
            "Dizi ismi giriniz: Better Call Saul\n",
            "Dizi ismi giriniz: Brooklyn Nine Nine\n",
            "Dizi ismi giriniz: The Walking Dead\n",
            "Dizi ismi giriniz: Teen Wolf\n",
            "['Breaking Bad', 'The office', 'Better Call Saul', 'Brooklyn Nine Nine', 'The Walking Dead', 'Teen Wolf']\n"
          ]
        }
      ]
    },
    {
      "cell_type": "code",
      "source": [
        "liste = []\n",
        "ad = input(\"Adınız: \")\n",
        "soyad = input(\"Soyadınız: \")\n",
        "adsoyad = ad + \" \" + soyad\n",
        "liste.append(adsoyad)\n",
        "#print(liste)\n",
        "\n",
        "ad = input(\"Adınız: \")\n",
        "soyad = input(\"Soyadınız: \")\n",
        "adsoyad = ad + \" \" + soyad\n",
        "liste.append(adsoyad)\n",
        "print(liste)"
      ],
      "metadata": {
        "id": "x9JKIVlb8-JV",
        "outputId": "af13f2f8-605e-4e0a-8301-6c4a47bf4077",
        "colab": {
          "base_uri": "https://localhost:8080/"
        }
      },
      "execution_count": null,
      "outputs": [
        {
          "output_type": "stream",
          "name": "stdout",
          "text": [
            "Adınız: Müslüm\n",
            "Soyadınız: Gürses\n",
            "Adınız: Sezen\n",
            "Soyadınız: Aksu\n",
            "['Müslüm Gürses', 'Sezen Aksu']\n"
          ]
        }
      ]
    },
    {
      "cell_type": "code",
      "source": [
        "print(\"Sayı Tahmin Etme Oyununa Hoşgeldiniz...\")\n",
        "sayılar = [\"19\",\"22\",\"35\",\"46\",\"87\",\"77\"]\n",
        "tahmin = (input(\"Tahmininizi Giriniz: \"))\n",
        "puan = 0\n",
        "if tahmin in sayılar:\n",
        "  print(\"Tahmininiz listede var.\")\n",
        "  puan +=2\n",
        "else:\n",
        "  print(\"Tahmininiz listede yok.\")\n",
        "print(\"Puanınız: \" + str(puan))"
      ],
      "metadata": {
        "id": "eL1UA9n38-cc",
        "outputId": "986e4339-1060-44f1-eaf1-ac95f94bc7cd",
        "colab": {
          "base_uri": "https://localhost:8080/"
        }
      },
      "execution_count": null,
      "outputs": [
        {
          "output_type": "stream",
          "name": "stdout",
          "text": [
            "Sayı Tahmin Etme Oyununa Hoşgeldiniz...\n",
            "Tahmininizi Giriniz: 15\n",
            "Tahmininiz listede yok.\n",
            "Puanınız: 0\n"
          ]
        }
      ]
    },
    {
      "cell_type": "code",
      "source": [
        "malzeme= [\"şeftali\",\"limon\",\"yeşil çay\",\"nane\",\"fesleğen\",\"buz\",\"şeker\"]\n",
        "özellik= [\"aroma\",\"ekşilik\",\"çay\",\"ekstra1\",\"ekstra2\",\"sıcaklık\",\"tatlandırıcı\"]\n",
        "\n",
        "while True:\n",
        "  girilen= (input(\"Özellik giriniz: \"))\n",
        "  if girilen in özellik:\n",
        "    print(malzeme)\n",
        "  else:\n",
        "    print(\"Özellik yok.\")\n",
        "\n",
        "#İstediğim özelliği girdiğimde malzemelerden o özelliğe ait değeri yazdırmasını istiyorum ama 7 kere tekrar tekrar yazmak istemiyorum.\n",
        "#Bütün özellikler tamamlandıktan sonra program dursun istiyorum."
      ],
      "metadata": {
        "id": "9iarww0j8-iL",
        "outputId": "f9de86e0-581c-4544-c098-0b999c21b265",
        "colab": {
          "base_uri": "https://localhost:8080/",
          "height": 555
        }
      },
      "execution_count": null,
      "outputs": [
        {
          "output_type": "error",
          "ename": "KeyboardInterrupt",
          "evalue": "ignored",
          "traceback": [
            "\u001b[0;31m---------------------------------------------------------------------------\u001b[0m",
            "\u001b[0;31mKeyboardInterrupt\u001b[0m                         Traceback (most recent call last)",
            "\u001b[0;32m/usr/local/lib/python3.7/dist-packages/ipykernel/kernelbase.py\u001b[0m in \u001b[0;36m_input_request\u001b[0;34m(self, prompt, ident, parent, password)\u001b[0m\n\u001b[1;32m    728\u001b[0m             \u001b[0;32mtry\u001b[0m\u001b[0;34m:\u001b[0m\u001b[0;34m\u001b[0m\u001b[0;34m\u001b[0m\u001b[0m\n\u001b[0;32m--> 729\u001b[0;31m                 \u001b[0mident\u001b[0m\u001b[0;34m,\u001b[0m \u001b[0mreply\u001b[0m \u001b[0;34m=\u001b[0m \u001b[0mself\u001b[0m\u001b[0;34m.\u001b[0m\u001b[0msession\u001b[0m\u001b[0;34m.\u001b[0m\u001b[0mrecv\u001b[0m\u001b[0;34m(\u001b[0m\u001b[0mself\u001b[0m\u001b[0;34m.\u001b[0m\u001b[0mstdin_socket\u001b[0m\u001b[0;34m,\u001b[0m \u001b[0;36m0\u001b[0m\u001b[0;34m)\u001b[0m\u001b[0;34m\u001b[0m\u001b[0;34m\u001b[0m\u001b[0m\n\u001b[0m\u001b[1;32m    730\u001b[0m             \u001b[0;32mexcept\u001b[0m \u001b[0mException\u001b[0m\u001b[0;34m:\u001b[0m\u001b[0;34m\u001b[0m\u001b[0;34m\u001b[0m\u001b[0m\n",
            "\u001b[0;32m/usr/local/lib/python3.7/dist-packages/jupyter_client/session.py\u001b[0m in \u001b[0;36mrecv\u001b[0;34m(self, socket, mode, content, copy)\u001b[0m\n\u001b[1;32m    802\u001b[0m         \u001b[0;32mtry\u001b[0m\u001b[0;34m:\u001b[0m\u001b[0;34m\u001b[0m\u001b[0;34m\u001b[0m\u001b[0m\n\u001b[0;32m--> 803\u001b[0;31m             \u001b[0mmsg_list\u001b[0m \u001b[0;34m=\u001b[0m \u001b[0msocket\u001b[0m\u001b[0;34m.\u001b[0m\u001b[0mrecv_multipart\u001b[0m\u001b[0;34m(\u001b[0m\u001b[0mmode\u001b[0m\u001b[0;34m,\u001b[0m \u001b[0mcopy\u001b[0m\u001b[0;34m=\u001b[0m\u001b[0mcopy\u001b[0m\u001b[0;34m)\u001b[0m\u001b[0;34m\u001b[0m\u001b[0;34m\u001b[0m\u001b[0m\n\u001b[0m\u001b[1;32m    804\u001b[0m         \u001b[0;32mexcept\u001b[0m \u001b[0mzmq\u001b[0m\u001b[0;34m.\u001b[0m\u001b[0mZMQError\u001b[0m \u001b[0;32mas\u001b[0m \u001b[0me\u001b[0m\u001b[0;34m:\u001b[0m\u001b[0;34m\u001b[0m\u001b[0;34m\u001b[0m\u001b[0m\n",
            "\u001b[0;32m/usr/local/lib/python3.7/dist-packages/zmq/sugar/socket.py\u001b[0m in \u001b[0;36mrecv_multipart\u001b[0;34m(self, flags, copy, track)\u001b[0m\n\u001b[1;32m    624\u001b[0m         \"\"\"\n\u001b[0;32m--> 625\u001b[0;31m         \u001b[0mparts\u001b[0m \u001b[0;34m=\u001b[0m \u001b[0;34m[\u001b[0m\u001b[0mself\u001b[0m\u001b[0;34m.\u001b[0m\u001b[0mrecv\u001b[0m\u001b[0;34m(\u001b[0m\u001b[0mflags\u001b[0m\u001b[0;34m,\u001b[0m \u001b[0mcopy\u001b[0m\u001b[0;34m=\u001b[0m\u001b[0mcopy\u001b[0m\u001b[0;34m,\u001b[0m \u001b[0mtrack\u001b[0m\u001b[0;34m=\u001b[0m\u001b[0mtrack\u001b[0m\u001b[0;34m)\u001b[0m\u001b[0;34m]\u001b[0m\u001b[0;34m\u001b[0m\u001b[0;34m\u001b[0m\u001b[0m\n\u001b[0m\u001b[1;32m    626\u001b[0m         \u001b[0;31m# have first part already, only loop while more to receive\u001b[0m\u001b[0;34m\u001b[0m\u001b[0;34m\u001b[0m\u001b[0;34m\u001b[0m\u001b[0m\n",
            "\u001b[0;32mzmq/backend/cython/socket.pyx\u001b[0m in \u001b[0;36mzmq.backend.cython.socket.Socket.recv\u001b[0;34m()\u001b[0m\n",
            "\u001b[0;32mzmq/backend/cython/socket.pyx\u001b[0m in \u001b[0;36mzmq.backend.cython.socket.Socket.recv\u001b[0;34m()\u001b[0m\n",
            "\u001b[0;32mzmq/backend/cython/socket.pyx\u001b[0m in \u001b[0;36mzmq.backend.cython.socket._recv_copy\u001b[0;34m()\u001b[0m\n",
            "\u001b[0;32m/usr/local/lib/python3.7/dist-packages/zmq/backend/cython/checkrc.pxd\u001b[0m in \u001b[0;36mzmq.backend.cython.checkrc._check_rc\u001b[0;34m()\u001b[0m\n",
            "\u001b[0;31mKeyboardInterrupt\u001b[0m: ",
            "\nDuring handling of the above exception, another exception occurred:\n",
            "\u001b[0;31mKeyboardInterrupt\u001b[0m                         Traceback (most recent call last)",
            "\u001b[0;32m<ipython-input-31-56fad7a6ac7f>\u001b[0m in \u001b[0;36m<module>\u001b[0;34m()\u001b[0m\n\u001b[1;32m      3\u001b[0m \u001b[0;34m\u001b[0m\u001b[0m\n\u001b[1;32m      4\u001b[0m \u001b[0;32mwhile\u001b[0m \u001b[0;32mTrue\u001b[0m\u001b[0;34m:\u001b[0m\u001b[0;34m\u001b[0m\u001b[0;34m\u001b[0m\u001b[0m\n\u001b[0;32m----> 5\u001b[0;31m   \u001b[0mgirilen\u001b[0m\u001b[0;34m=\u001b[0m \u001b[0;34m(\u001b[0m\u001b[0minput\u001b[0m\u001b[0;34m(\u001b[0m\u001b[0;34m\"Özellik giriniz: \"\u001b[0m\u001b[0;34m)\u001b[0m\u001b[0;34m)\u001b[0m\u001b[0;34m\u001b[0m\u001b[0;34m\u001b[0m\u001b[0m\n\u001b[0m\u001b[1;32m      6\u001b[0m   \u001b[0;32mif\u001b[0m \u001b[0mgirilen\u001b[0m \u001b[0;32min\u001b[0m \u001b[0mözellik\u001b[0m\u001b[0;34m:\u001b[0m\u001b[0;34m\u001b[0m\u001b[0;34m\u001b[0m\u001b[0m\n\u001b[1;32m      7\u001b[0m     \u001b[0mprint\u001b[0m\u001b[0;34m(\u001b[0m\u001b[0mmalzeme\u001b[0m\u001b[0;34m)\u001b[0m\u001b[0;34m\u001b[0m\u001b[0;34m\u001b[0m\u001b[0m\n",
            "\u001b[0;32m/usr/local/lib/python3.7/dist-packages/ipykernel/kernelbase.py\u001b[0m in \u001b[0;36mraw_input\u001b[0;34m(self, prompt)\u001b[0m\n\u001b[1;32m    702\u001b[0m             \u001b[0mself\u001b[0m\u001b[0;34m.\u001b[0m\u001b[0m_parent_ident\u001b[0m\u001b[0;34m,\u001b[0m\u001b[0;34m\u001b[0m\u001b[0;34m\u001b[0m\u001b[0m\n\u001b[1;32m    703\u001b[0m             \u001b[0mself\u001b[0m\u001b[0;34m.\u001b[0m\u001b[0m_parent_header\u001b[0m\u001b[0;34m,\u001b[0m\u001b[0;34m\u001b[0m\u001b[0;34m\u001b[0m\u001b[0m\n\u001b[0;32m--> 704\u001b[0;31m             \u001b[0mpassword\u001b[0m\u001b[0;34m=\u001b[0m\u001b[0;32mFalse\u001b[0m\u001b[0;34m,\u001b[0m\u001b[0;34m\u001b[0m\u001b[0;34m\u001b[0m\u001b[0m\n\u001b[0m\u001b[1;32m    705\u001b[0m         )\n\u001b[1;32m    706\u001b[0m \u001b[0;34m\u001b[0m\u001b[0m\n",
            "\u001b[0;32m/usr/local/lib/python3.7/dist-packages/ipykernel/kernelbase.py\u001b[0m in \u001b[0;36m_input_request\u001b[0;34m(self, prompt, ident, parent, password)\u001b[0m\n\u001b[1;32m    732\u001b[0m             \u001b[0;32mexcept\u001b[0m \u001b[0mKeyboardInterrupt\u001b[0m\u001b[0;34m:\u001b[0m\u001b[0;34m\u001b[0m\u001b[0;34m\u001b[0m\u001b[0m\n\u001b[1;32m    733\u001b[0m                 \u001b[0;31m# re-raise KeyboardInterrupt, to truncate traceback\u001b[0m\u001b[0;34m\u001b[0m\u001b[0;34m\u001b[0m\u001b[0;34m\u001b[0m\u001b[0m\n\u001b[0;32m--> 734\u001b[0;31m                 \u001b[0;32mraise\u001b[0m \u001b[0mKeyboardInterrupt\u001b[0m\u001b[0;34m\u001b[0m\u001b[0;34m\u001b[0m\u001b[0m\n\u001b[0m\u001b[1;32m    735\u001b[0m             \u001b[0;32melse\u001b[0m\u001b[0;34m:\u001b[0m\u001b[0;34m\u001b[0m\u001b[0;34m\u001b[0m\u001b[0m\n\u001b[1;32m    736\u001b[0m                 \u001b[0;32mbreak\u001b[0m\u001b[0;34m\u001b[0m\u001b[0;34m\u001b[0m\u001b[0m\n",
            "\u001b[0;31mKeyboardInterrupt\u001b[0m: "
          ]
        }
      ]
    },
    {
      "cell_type": "code",
      "source": [
        "günler = [\"Pazartesi\",\"Salı\",\"Çarşamba\",\"Perşembe\",\"Cuma\"]\n",
        "for gün in günler:\n",
        "  print(gün)\n",
        "  if gün == \"Çarşamba\":\n",
        "    print(\"Çorba Yok.\")\n",
        "    continue\n",
        "  print(\"Çorba Var!\")"
      ],
      "metadata": {
        "id": "SRzf3FG32cxz",
        "outputId": "f9203847-484e-4dcf-a3d9-fbbb8db324ce",
        "colab": {
          "base_uri": "https://localhost:8080/"
        }
      },
      "execution_count": 3,
      "outputs": [
        {
          "output_type": "stream",
          "name": "stdout",
          "text": [
            "Pazartesi\n",
            "Çorba Var!\n",
            "Salı\n",
            "Çorba Var!\n",
            "Çarşamba\n",
            "Çorba Yok.\n",
            "Perşembe\n",
            "Çorba Var!\n",
            "Cuma\n",
            "Çorba Var!\n"
          ]
        }
      ]
    },
    {
      "cell_type": "code",
      "source": [
        "print(\"Güncel ve gelecekte popüler olacak mesleklerden tahminde bulununuz.\")\n",
        "\n",
        "liste = ['Yazılım Mühendisliği', 'Yapay Zeka Mühendisliği', 'Blockchain Geliştiricisi', 'Veri Analisti', 'Alternatif Enerji Uzmanı', 'Siber Güvenlik Uzmanı','Bulut Mühendisi']\n",
        "puan = 0\n",
        "\n",
        "for i in range(3):\n",
        "  tahmin= input(\"Tahmininizi giriniz: \")\n",
        "  if tahmin in liste:\n",
        "    print(\"listede var.\")\n",
        "    puan +=1\n",
        "  else:\n",
        "    print(\"listede yok.\")\n",
        "\n",
        "print(\"Puanınız: \" + puan)"
      ],
      "metadata": {
        "id": "SY5hiG5o2dhB"
      },
      "execution_count": null,
      "outputs": []
    },
    {
      "cell_type": "code",
      "source": [
        "from random import choice\n",
        "adamCan = 5\n",
        "kelimeler = [\"tetik\",\"askı\",\"karakter\",\"güneş\"]\n",
        "\n",
        "secilenKelime = choice(kelimeler)\n",
        "print(secilenKelime)\n",
        "dizilenKelime = []\n",
        "for diz in secilenKelime:\n",
        "    dizilenKelime.append(\"_\")\n",
        "print(dizilenKelime)\n",
        "\n",
        "while adamCan > 0:\n",
        "    girilenHarf = input(\"Bir harf giriniz: \")\n",
        "    canKontrol = girilenHarf in secilenKelime\n",
        "    if canKontrol == False:\n",
        "        adamCan -= 1\n",
        "    i = 0\n",
        "    for kontrol in secilenKelime:\n",
        "        if secilenKelime[i] == girilenHarf:\n",
        "            dizilenKelime[i] == girilenHarf\n",
        "        i += 1\n",
        "    print(dizilenKelime)\n",
        "    print(\"Kalan can: \" + str(adamCan))"
      ],
      "metadata": {
        "id": "QhqRCIwM2eB1"
      },
      "execution_count": null,
      "outputs": []
    },
    {
      "cell_type": "code",
      "source": [
        ""
      ],
      "metadata": {
        "id": "c6_C1I1S8-kB"
      },
      "execution_count": null,
      "outputs": []
    }
  ]
}