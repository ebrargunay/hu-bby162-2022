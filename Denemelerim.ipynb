{
  "nbformat": 4,
  "nbformat_minor": 0,
  "metadata": {
    "colab": {
      "name": "Untitled3.ipynb",
      "provenance": [],
      "authorship_tag": "ABX9TyP89mCm+pHzvSpY1lSIlieR",
      "include_colab_link": true
    },
    "kernelspec": {
      "name": "python3",
      "display_name": "Python 3"
    },
    "language_info": {
      "name": "python"
    }
  },
  "cells": [
    {
      "cell_type": "markdown",
      "metadata": {
        "id": "view-in-github",
        "colab_type": "text"
      },
      "source": [
        "<a href=\"https://colab.research.google.com/github/ebrargunay/hu-bby162-2022/blob/main/Denemelerim.ipynb\" target=\"_parent\"><img src=\"https://colab.research.google.com/assets/colab-badge.svg\" alt=\"Open In Colab\"/></a>"
      ]
    },
    {
      "cell_type": "code",
      "source": [
        "metin = 'hadi '\n",
        "print(metin*4)"
      ],
      "metadata": {
        "colab": {
          "base_uri": "https://localhost:8080/"
        },
        "id": "0mVp1_O252Yo",
        "outputId": "8a9d578c-cacf-4e03-cca2-f47ab346bdee"
      },
      "execution_count": 36,
      "outputs": [
        {
          "output_type": "stream",
          "name": "stdout",
          "text": [
            "hadi hadi hadi hadi \n"
          ]
        }
      ]
    },
    {
      "cell_type": "code",
      "source": [
        "metin = 'Ebrar\\n'\n",
        "print(metin*5)\n"
      ],
      "metadata": {
        "colab": {
          "base_uri": "https://localhost:8080/"
        },
        "id": "j2ehQAgFry_k",
        "outputId": "78f75fd3-661d-44ca-c505-187d4789194f"
      },
      "execution_count": 16,
      "outputs": [
        {
          "output_type": "stream",
          "name": "stdout",
          "text": [
            "Ebrar\n",
            "Ebrar\n",
            "Ebrar\n",
            "Ebrar\n",
            "Ebrar\n",
            "\n"
          ]
        }
      ]
    },
    {
      "cell_type": "code",
      "source": [
        "değer1=10\n",
        "değer2=100\n",
        "değer1==değer2"
      ],
      "metadata": {
        "colab": {
          "base_uri": "https://localhost:8080/"
        },
        "id": "5W3qHHWUzMww",
        "outputId": "d224d187-ea3c-4bd9-8e6c-b315aa6a8398"
      },
      "execution_count": 20,
      "outputs": [
        {
          "output_type": "execute_result",
          "data": {
            "text/plain": [
              "False"
            ]
          },
          "metadata": {},
          "execution_count": 20
        }
      ]
    },
    {
      "cell_type": "code",
      "source": [
        "kartLimiti = 500\n",
        "almakistenenürününfiyatı = int(input('Ürün Fiyatı Giriniz: '))\n",
        "kontrol = almakistenenürününfiyatı > kartLimiti\n",
        "print(\"Limit Yetersiz \" + str(kontrol))"
      ],
      "metadata": {
        "colab": {
          "base_uri": "https://localhost:8080/"
        },
        "id": "8-LAwlfN1BHF",
        "outputId": "ef5a7ca2-e4f2-49e0-9b75-a986c64c92ba"
      },
      "execution_count": 28,
      "outputs": [
        {
          "output_type": "stream",
          "name": "stdout",
          "text": [
            "Ürün Fiyatı Giriniz: 501\n",
            "Limit Yetersiz True\n"
          ]
        }
      ]
    }
  ]
}