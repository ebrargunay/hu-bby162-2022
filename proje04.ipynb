{
  "nbformat": 4,
  "nbformat_minor": 0,
  "metadata": {
    "colab": {
      "name": "proje04DENEME.ipynb",
      "provenance": [],
      "mount_file_id": "https://github.com/ebrargunay/hu-bby162-2022/blob/main/proje04.ipynb",
      "authorship_tag": "ABX9TyNgfJOZTHOzjLosHrM6XiN/",
      "include_colab_link": true
    },
    "kernelspec": {
      "name": "python3",
      "display_name": "Python 3"
    },
    "language_info": {
      "name": "python"
    }
  },
  "cells": [
    {
      "cell_type": "markdown",
      "metadata": {
        "id": "view-in-github",
        "colab_type": "text"
      },
      "source": [
        "<a href=\"https://colab.research.google.com/github/ebrargunay/hu-bby162-2022/blob/main/proje04.ipynb\" target=\"_parent\"><img src=\"https://colab.research.google.com/assets/colab-badge.svg\" alt=\"Open In Colab\"/></a>"
      ]
    },
    {
      "cell_type": "code",
      "source": [
        "from google.colab import drive\n",
        "drive.mount('/content/drive')\n",
        "\n",
        "dosyaYolu = \"/content/drive/MyDrive/veritabani.txt\"\n",
        "kütüphane = []\n",
        "def kütüphaneGöster():\n",
        "  dosya = open(dosyaYolu,\"r\")\n",
        "  for line in dosya.readlines():\n",
        "    print(line)\n",
        "  dosya.close()\n",
        "\n",
        "def kütüphaneKayıt():\n",
        "  kitapAd =input(\"Kitap adı giriniz: \")\n",
        "  kitapYazar =input(\"Kitabın yazarını giriniz: \")\n",
        "  kitapYıl =input(\"Kitabın basım yılını giriniz: \")\n",
        "  kitapYayın =input(\"Kitabın yayınevini giriniz: \")\n",
        "  dosya = open(dosyaYolu,\"a\")\n",
        "  dosya.write(kitapAd + \" , \"+ kitapYazar + \" , \" + kitapYıl + \" , \"+ kitapYayın +\"\\n\")\n",
        "  print(\"Kitap kaydı gerçekleştirildi.\")\n",
        "  dosya.close()\n",
        "def kitapAra():\n",
        "  ara = input(\"Aradığınız kitabın adını giriniz: \")\n",
        "  for kitap in kütüphane:\n",
        "    if ara in kitap:\n",
        "      print(\"Kitap kütüphanede var.\")\n",
        "    else:\n",
        "      print(\"Kitap kütüphanede yok.\")\n",
        "def menu():\n",
        "  while True:\n",
        "    print(\"\\nKütüphane sistemine hoşgeldiniz.\")\n",
        "    secim = input(\"\\nYapmak istediğiniz işlem nedir? \\n 1)Kitap gör \\n 2)Yeni  kitap kayıt ekle \\n 3)Kitap kayıt ara \\n 4)Çıkış yap \\n\")\n",
        "    if secim == \"1\":\n",
        "      kütüphaneGöster()\n",
        "    elif secim == \"2\":\n",
        "      kütüphaneKayıt()\n",
        "    elif secim == \"3\":\n",
        "      kitapAra()\n",
        "    elif secim == \"4\":\n",
        "      print(\"\\nKütüphane sisteminden çıkış yapıldı.\")\n",
        "      break\n",
        "    break\n",
        "menu()"
      ],
      "metadata": {
        "id": "qNJ_Pi8FUICV",
        "outputId": "675516c8-a358-4266-b153-c93b8c72f4ad",
        "colab": {
          "base_uri": "https://localhost:8080/"
        }
      },
      "execution_count": 2,
      "outputs": [
        {
          "output_type": "stream",
          "name": "stdout",
          "text": [
            "Drive already mounted at /content/drive; to attempt to forcibly remount, call drive.mount(\"/content/drive\", force_remount=True).\n",
            "\n",
            "Kütüphane sistemine hoşgeldiniz.\n",
            "\n",
            "Yapmak istediğiniz işlem nedir? \n",
            " 1)Kitap gör \n",
            " 2)Yeni  kitap kayıt ekle \n",
            " 3)Kitap kayıt ara \n",
            " 4)Çıkış yap \n",
            "1\n",
            "Su Adamı|Aleksandr Belyaev|2022|İthaki Yayınları\n",
            "\n",
            "Şeker Potakalı|jose Mauro de Vasconcelos|2022|Can Yayınları\n",
            "\n",
            "Meksika Gotiği|Silvia Moreno Garcia|2022|İthaki Yayınları\n"
          ]
        }
      ]
    }
  ]
}