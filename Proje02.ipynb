{
  "nbformat": 4,
  "nbformat_minor": 0,
  "metadata": {
    "colab": {
      "name": "Untitled8.ipynb",
      "provenance": [],
      "authorship_tag": "ABX9TyOxWx99Sca/sCp8o48+eyvu",
      "include_colab_link": true
    },
    "kernelspec": {
      "name": "python3",
      "display_name": "Python 3"
    },
    "language_info": {
      "name": "python"
    }
  },
  "cells": [
    {
      "cell_type": "markdown",
      "metadata": {
        "id": "view-in-github",
        "colab_type": "text"
      },
      "source": [
        "<a href=\"https://colab.research.google.com/github/ebrargunay/hu-bby162-2022/blob/main/Proje02.ipynb\" target=\"_parent\"><img src=\"https://colab.research.google.com/assets/colab-badge.svg\" alt=\"Open In Colab\"/></a>"
      ]
    },
    {
      "cell_type": "code",
      "source": [
        "from random import choice\n",
        "\n",
        "adamCan = 3\n",
        "kelimeler = [\"kasımpatı\",\"lale\",\"nergis\",\"sümbül\",\"menekşe\",\"karanfil\"]\n",
        "secilenKelime = choice(kelimeler)\n",
        "dizilenKelime = []\n",
        "\n",
        "for diz in secilenKelime:\n",
        "  dizilenKelime.append(\"_\")\n",
        "print(dizilenKelime)\n",
        "\n",
        "while adamCan > 0:\n",
        "  girilenHarf = input(\"Bir harf giriniz: \")\n",
        "  canKontrol = girilenHarf in secilenKelime\n",
        "  if canKontrol == False:\n",
        "    adamCan -=1\n",
        "    print(\"Bilemediniz!\")\n",
        "  i = 0\n",
        "  for kontrol in secilenKelime:\n",
        "    if secilenKelime[i] == girilenHarf:\n",
        "      dizilenKelime[i] = girilenHarf\n",
        "      print(\"Bildiniz!\")\n",
        "    i +=1\n",
        "  print(dizilenKelime)\n",
        "  print(\"Kalan can: \" + str(adamCan))\n",
        "  if adamCan == 0:\n",
        "    print(\"Adam öldü!\")\n"
      ],
      "metadata": {
        "id": "pKw9SpU_OvfH"
      },
      "execution_count": null,
      "outputs": []
    },
    {
      "cell_type": "code",
      "source": [
        ""
      ],
      "metadata": {
        "id": "Eq5D_A2ROvm9"
      },
      "execution_count": null,
      "outputs": []
    }
  ]
}