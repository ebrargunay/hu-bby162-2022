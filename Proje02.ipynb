{
  "nbformat": 4,
  "nbformat_minor": 0,
  "metadata": {
    "colab": {
      "name": "Untitled8.ipynb",
      "provenance": [],
      "authorship_tag": "ABX9TyPb35DyoX9ji5Xvi3l1HOd2",
      "include_colab_link": true
    },
    "kernelspec": {
      "name": "python3",
      "display_name": "Python 3"
    },
    "language_info": {
      "name": "python"
    }
  },
  "cells": [
    {
      "cell_type": "markdown",
      "metadata": {
        "id": "view-in-github",
        "colab_type": "text"
      },
      "source": [
        "<a href=\"https://colab.research.google.com/github/ebrargunay/hu-bby162-2022/blob/main/Proje02.ipynb\" target=\"_parent\"><img src=\"https://colab.research.google.com/assets/colab-badge.svg\" alt=\"Open In Colab\"/></a>"
      ]
    },
    {
      "cell_type": "code",
      "source": [
        "from random import choice\n",
        "print(\"Adam asmaca oyununa hoş geldiniz. Bilmeniz gereken kelime bir çiçek ismi. Başarılar!\")\n",
        "\n",
        "print(\"Seviye seçiniz: 1 - 2 - 3\")\n",
        "seviye = input(\"Seviye: \")\n",
        "\n",
        "def oyna(adamCan):\n",
        "  kelimeler = [\"kasımpatı\",\"lale\",\"nergis\",\"sümbül\",\"menekşe\",\"karanfil\",\"devedikeni\"]\n",
        "  kelimeSayısı = len(kelimeler)\n",
        "  secilen = randint(0, kelimeSayısı-1)\n",
        "  secilenKelime = kelimeler[secilen]\n",
        "  dizilenKelime = []\n",
        "\n",
        "  for diz in kelimeler[secilen]:\n",
        "    dizilenKelime.append(\"_\")\n",
        "  print(dizilenKelime)\n",
        "\n",
        "  while adamCan > 0:\n",
        "    girilenHarf = input(\"Bir harf giriniz: \")\n",
        "    canKontrol = girilenHarf in secilenKelime\n",
        "    if canKontrol == False:\n",
        "      adamCan -=1\n",
        "      print(\"Bilemediniz!\")\n",
        "    i = 0\n",
        "    for kontrol in secilenKelime:\n",
        "      if secilenKelime[i] == girilenHarf:\n",
        "        dizilenKelime[i] = girilenHarf\n",
        "        print(\"Bildiniz!\")\n",
        "      i +=1\n",
        "    print(dizilenKelime)\n",
        "    print(\"Kalan can: \" + str(adamCan))\n",
        "    if adamCan == 0:\n",
        "      print(\"Adam öldü!\")\n",
        " \n",
        "if seviye == \"1\":\n",
        "  oyna(7)\n",
        "elif seviye == \"2\":\n",
        "  oyna(5)\n",
        "elif seviye == \"3\":\n",
        "  oyna(3)\n",
        "else:\n",
        "  print(\"Geçerli bir seviye girmediniz!\")"
      ],
      "metadata": {
        "id": "Eq5D_A2ROvm9",
        "outputId": "cd122371-8592-4548-c4f8-4a836eb47ebe",
        "colab": {
          "base_uri": "https://localhost:8080/"
        }
      },
      "execution_count": 1,
      "outputs": [
        {
          "output_type": "stream",
          "name": "stdout",
          "text": [
            "Adam asmaca oyununa hoş geldiniz. Bilmeniz gereken kelime bir çiçek ismi. Başarılar!\n",
            "Seviye seçiniz: 1 - 2 - 3\n",
            "Seviye: 4\n",
            "Geçerli bir seviye girmediniz!\n"
          ]
        }
      ]
    }
  ]
}