{
  "nbformat": 4,
  "nbformat_minor": 0,
  "metadata": {
    "colab": {
      "name": "proje03.ipynb",
      "provenance": [],
      "authorship_tag": "ABX9TyOHinrEBcKgCMOaCq9ioepR",
      "include_colab_link": true
    },
    "kernelspec": {
      "name": "python3",
      "display_name": "Python 3"
    },
    "language_info": {
      "name": "python"
    }
  },
  "cells": [
    {
      "cell_type": "markdown",
      "metadata": {
        "id": "view-in-github",
        "colab_type": "text"
      },
      "source": [
        "<a href=\"https://colab.research.google.com/github/ebrargunay/hu-bby162-2022/blob/main/proje03.ipynb\" target=\"_parent\"><img src=\"https://colab.research.google.com/assets/colab-badge.svg\" alt=\"Open In Colab\"/></a>"
      ]
    },
    {
      "cell_type": "code",
      "execution_count": null,
      "metadata": {
        "colab": {
          "base_uri": "https://localhost:8080/"
        },
        "id": "qwNZCAJr92vH",
        "outputId": "1de8679e-76d9-4a91-c546-db5adc32a4ba"
      },
      "outputs": [
        {
          "output_type": "stream",
          "name": "stdout",
          "text": [
            "The Office dizisi ile ilgili kısa test uygulamasına hoşgeldiniz.\n",
            "Karşınıza çıkan ifadelere evet yada hayır olarak cevap veriniz.\n",
            "Bakalım gerçekten The Office hayranı mısınız :)\n",
            "Soru 1:The Office dizisi dokuz sezondur.\n",
            "evet/hayırevet\n",
            "Doğru bildiniz.\n",
            "Soru 2:The Office dizisindeki şirket bir tarım şirketidir.\n",
            "evet/hayırhayır\n",
            "Doğru bildiniz.\n",
            "Soru 3:Dunder Mifflin'in müdürü Michael Scott'tır.\n",
            "evet/hayırevet\n",
            "Doğru bildiniz.\n",
            "Soru 4:Michael, Jan ile evlenmiştir.\n",
            "evet/hayırhayır\n",
            "Doğru bildiniz.\n",
            "Soru 5:Toby, Michael'ın en sevdiği çalışandır.\n",
            "evet/hayırhayır\n",
            "Doğru bildiniz.\n",
            "Toplam puanınız: 100\n",
            "Tebrikler.Testi başarıyla geçtiniz. Gerçek bir The Office hayranısınız :)\n"
          ]
        }
      ],
      "source": [
        "print(\"The Office dizisi ile ilgili kısa test uygulamasına hoşgeldiniz.\\nKarşınıza çıkan ifadelere evet yada hayır olarak cevap veriniz.\\nBakalım gerçekten The Office hayranı mısınız :)\")\n",
        "\n",
        "sorular = [\"The Office dizisi dokuz sezondur.\",\"The Office dizisindeki şirket bir tarım şirketidir.\",\"Dunder Mifflin'in müdürü Michael Scott'tır.\",\"Michael, Jan ile evlenmiştir.\",\"Toby, Michael'ın en sevdiği çalışandır.\"]\n",
        "cevaplar = [\"evet\",\"hayır\",\"evet\",\"hayır\",\"hayır\"]\n",
        "\n",
        "def testcalıstır():\n",
        "  soruNo = 0\n",
        "  cevapNo = 0\n",
        "  puan = 0\n",
        "  for soru in sorular:\n",
        "    soruNo +=1\n",
        "    print(\"Soru \"+str(soruNo)+ \":\"+soru)\n",
        "    cevap = input(\"evet/hayır\")\n",
        "    if cevap == cevaplar[cevapNo]:\n",
        "      print(\"Doğru bildiniz.\")\n",
        "      puan +=1\n",
        "    else:\n",
        "      print(\"Yanlış cevap.\")\n",
        "    cevapNo +=1\n",
        "  toplamPuan = int((puan/soruNo)*100)\n",
        "  print(\"Toplam puanınız: \"+str(toplamPuan))\n",
        "  if toplamPuan >=60:\n",
        "    print(\"Tebrikler.Testi başarıyla geçtiniz. Gerçek bir The Office hayranısınız :)\")\n",
        "  else:\n",
        "    print(\"Testi geçemediniz.\")\n",
        "    tekrar = input(\"Yeniden başlamak ister misiniz? evet/hayır \")\n",
        "    if tekrar == \"evet\":\n",
        "      testcalıstır()\n",
        "    else:\n",
        "      print(\"Test uygulaması sonlandırıldı.\")\n",
        "\n",
        "testcalıstır()"
      ]
    }
  ]
}