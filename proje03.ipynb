{
  "nbformat": 4,
  "nbformat_minor": 0,
  "metadata": {
    "colab": {
      "name": "proje03.ipynb",
      "provenance": [],
      "authorship_tag": "ABX9TyO3zPWkSBGc1BKIxRBZOC3E",
      "include_colab_link": true
    },
    "kernelspec": {
      "name": "python3",
      "display_name": "Python 3"
    },
    "language_info": {
      "name": "python"
    }
  },
  "cells": [
    {
      "cell_type": "markdown",
      "metadata": {
        "id": "view-in-github",
        "colab_type": "text"
      },
      "source": [
        "<a href=\"https://colab.research.google.com/github/ebrargunay/hu-bby162-2022/blob/main/proje03.ipynb\" target=\"_parent\"><img src=\"https://colab.research.google.com/assets/colab-badge.svg\" alt=\"Open In Colab\"/></a>"
      ]
    },
    {
      "cell_type": "code",
      "source": [
        "print(\"The Office dizisi ile ilgili kısa test uygulamasına hoşgeldiniz.\\nKarşınıza çıkan ifadelere evet yada hayır olarak cevap veriniz.\\nBakalım gerçekten The Office hayranı mısınız :)\")\n",
        "\n",
        "sorular = [\"The Office dizisi dokuz sezondur.\",\"The Office dizisindeki şirket bir tarım şirketidir.\",\"Dunder Mifflin'in müdürü Michael Scott'tır.\",\"Michael, Jan ile evlenmiştir.\",\"Toby, Michael'ın en sevdiği çalışandır.\"]\n",
        "cevaplar = [\"evet\",\"hayır\",\"evet\",\"hayır\",\"hayır\"]\n",
        "puan = 0\n",
        "\n",
        "print(\"1. \" + sorular [0])\n",
        "cevap = input(\"Cevabınız: \")\n",
        "if  cevap == cevaplar[0]:\n",
        "  print(\"Doğru bildiniz.\")\n",
        "  puan += 20\n",
        "else:\n",
        "  print(\"Yanlış cevap.\")\n",
        "print(\"Puanınız :\" + str(puan))\n",
        "\n",
        "print(\"2. \" + sorular [1])\n",
        "cevap = input(\"Cevabınız: \")\n",
        "if  cevap == cevaplar[1]:\n",
        "  print(\"Doğru bildiniz.\")\n",
        "  puan += 20\n",
        "else:\n",
        "  print(\"Yanlış cevap\")\n",
        "print(\"Puanınız :\" + str(puan))\n",
        "\n",
        "print(\"3. \" + sorular [2])\n",
        "cevap = input(\"Cevabınız: \")\n",
        "if  cevap == cevaplar[2]:\n",
        "  print(\"Doğru bildiniz.\")\n",
        "  puan += 20\n",
        "else:\n",
        "  print(\"Yanlış cevap.\")\n",
        "print(\"Puanınız :\" + str(puan))\n",
        "\n",
        "print(\"4. \" + sorular [3])\n",
        "cevap = input(\"Cevabınız: \")\n",
        "if  cevap == cevaplar[3]:\n",
        "  print(\"Doğru bildiniz.\")\n",
        "  puan += 20\n",
        "else:\n",
        "  print(\"Yanlış cevap.\")\n",
        "print(\"Puanınız :\" + str(puan))\n",
        "\n",
        "print(\"5. \" + sorular [4])\n",
        "cevap = input(\"Cevabınız: \")\n",
        "if  cevap == cevaplar[4]:\n",
        "  print(\"Doğru bildiniz.\")\n",
        "  puan += 20\n",
        "else:\n",
        "  print(\"Yanlış cevap.\")\n",
        "print(\"Puanınız :\" + str(puan))\n",
        "\n"
      ],
      "metadata": {
        "id": "wRABK2IWffIu",
        "outputId": "d4e3a1dc-3b07-4e89-bb5a-2692524a538b",
        "colab": {
          "base_uri": "https://localhost:8080/"
        }
      },
      "execution_count": 5,
      "outputs": [
        {
          "output_type": "stream",
          "name": "stdout",
          "text": [
            "The Office dizisi ile ilgili kısa test uygulamasına hoşgeldiniz.\n",
            "Karşınıza çıkan ifadelere evet yada hayır olarak cevap veriniz.\n",
            "Bakalım gerçekten The Office hayranı mısınız :)\n",
            "1. The Office dizisi dokuz sezondur.\n",
            "Cevabınız: hayır\n",
            "Yanlış cevap.\n",
            "Puanınız :0\n",
            "2. The Office dizisindeki şirket bir tarım şirketidir.\n",
            "Cevabınız: hayır\n",
            "Doğru bildiniz.\n",
            "Puanınız :20\n",
            "3. Dunder Mifflin'in müdürü Michael Scott'tır.\n",
            "Cevabınız: evet\n",
            "Doğru bildiniz\n",
            "Puanınız :40\n",
            "4. Michael, Jan ile evlenmiştir.\n",
            "Cevabınız: hayır\n",
            "Doğru bildiniz.\n",
            "Puanınız :60\n",
            "5. Toby, Michael'ın en sevdiği çalışandır.\n",
            "Cevabınız: evet\n",
            "Yanlış cevap.\n",
            "Puanınız :60\n"
          ]
        }
      ]
    }
  ]
}