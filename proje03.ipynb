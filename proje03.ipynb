{
  "nbformat": 4,
  "nbformat_minor": 0,
  "metadata": {
    "colab": {
      "name": "proje03.ipynb",
      "provenance": [],
      "authorship_tag": "ABX9TyO1ygP1bpi49qSaWzy4o2Od",
      "include_colab_link": true
    },
    "kernelspec": {
      "name": "python3",
      "display_name": "Python 3"
    },
    "language_info": {
      "name": "python"
    }
  },
  "cells": [
    {
      "cell_type": "markdown",
      "metadata": {
        "id": "view-in-github",
        "colab_type": "text"
      },
      "source": [
        "<a href=\"https://colab.research.google.com/github/ebrargunay/hu-bby162-2022/blob/main/proje03.ipynb\" target=\"_parent\"><img src=\"https://colab.research.google.com/assets/colab-badge.svg\" alt=\"Open In Colab\"/></a>"
      ]
    },
    {
      "cell_type": "code",
      "source": [
        "sorular = [\"\",\"\",\"\",\"\",\"\"]\n",
        "cevaplar = [\"\",\"\",\"\",\"\",\"\"]\n",
        "puan = 0\n",
        "\n",
        "print(\"1. \" + sorular [0])\n",
        "cevap = input(\"Cevabınız: \")\n",
        "if  cevap == cevaplar[0]:\n",
        "  print(\"Doğru bildiniz\")\n",
        "  puan += 20\n",
        "else:\n",
        "  print(\"Yanlış cevap\")\n",
        "\n",
        "print(\"2. \" + sorular [1])\n",
        "cevap = input(\"Cevabınız: \")\n",
        "if  cevap == cevaplar[1]:\n",
        "  print(\"Doğru bildiniz\")\n",
        "  puan += 20\n",
        "else:\n",
        "  print(\"Yanlış cevap\")\n",
        "\n",
        "print(\"3. \" + sorular [2])\n",
        "cevap = input(\"Cevabınız: \")\n",
        "if  cevap == cevaplar[2]:\n",
        "  print(\"Doğru bildiniz\")\n",
        "  puan += 20\n",
        "else:\n",
        "  print(\"Yanlış cevap\")\n",
        "\n",
        "print(\"4. \" + sorular [3])\n",
        "cevap = input(\"Cevabınız: \")\n",
        "if  cevap == cevaplar[3]:\n",
        "  print(\"Doğru bildiniz\")\n",
        "  puan += 20\n",
        "else:\n",
        "  print(\"Yanlış cevap\")\n",
        "\n",
        "print(\"5. \" + sorular [4])\n",
        "cevap = input(\"Cevabınız: \")\n",
        "if  cevap == cevaplar[4]:\n",
        "  print(\"Doğru bildiniz\")\n",
        "  puan += 20\n",
        "else:\n",
        "  print(\"Yanlış cevap\")\n",
        "\n",
        "\n",
        "if puan > 60:\n",
        "  print(\"Tebrikler.Testi başarıyla geçtiniz.\")\n",
        "else:\n",
        "  print(\"Testi geçemediniz. Yeniden başlamak ister misiniz?\")\n",
        "  yenidenbaşla\n",
        "\n",
        "\n",
        "print(\"Puanınız :\" + puan)"
      ],
      "metadata": {
        "id": "wRABK2IWffIu"
      },
      "execution_count": null,
      "outputs": []
    }
  ]
}